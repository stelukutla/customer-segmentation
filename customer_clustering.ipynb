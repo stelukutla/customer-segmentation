{
 "cells": [
  {
   "cell_type": "markdown",
   "metadata": {},
   "source": [
    "# **Customer Clustering/Segmentation**\n",
    "### 1. Process the .csv from received \n",
    "### 2. Use Machine Learning(k-means algorithm) for customer segmentation\n",
    "### 3. Pick the right customer segment \n",
    "    - Loan Amount vs Loan Balance\n",
    "### 4.  Share/Run the selected segement for promotions\n",
    "### 5.  Post Promotion Analysis - Customer REACH\n",
    "### 6.  Other cases\n",
    "    - Credit Score vs Loan Balance\n",
    "    - Income vs Loan Balance\n",
    "*Note : 100% mock data used in csv file and charts may not reflect as expected*\n",
    "\n",
    "<br/>\n",
    "<br/>\n",
    "<br/>\n",
    "<br/>\n",
    "<br/>\n",
    "<br/>\n",
    "<br/>\n",
    "<br/>\n",
    "<br/>\n",
    "<br/>\n",
    "\n",
    "\n"
   ]
  },
  {
   "cell_type": "markdown",
   "metadata": {},
   "source": [
    "# 1. Process the .csv from received"
   ]
  },
  {
   "cell_type": "code",
   "execution_count": 16,
   "metadata": {},
   "outputs": [
    {
     "name": "stdout",
     "output_type": "stream",
     "text": [
      "<class 'pandas.core.frame.DataFrame'>\n",
      "RangeIndex: 1000 entries, 0 to 999\n",
      "Data columns (total 15 columns):\n",
      " #   Column               Non-Null Count  Dtype  \n",
      "---  ------               --------------  -----  \n",
      " 0   client_id            1000 non-null   int64  \n",
      " 1   first_name           1000 non-null   object \n",
      " 2   last_name            1000 non-null   object \n",
      " 3   email                1000 non-null   object \n",
      " 4   gender               1000 non-null   object \n",
      " 5   country              1000 non-null   object \n",
      " 6   state                1000 non-null   object \n",
      " 7   loan_amount          1000 non-null   float64\n",
      " 8   loan_balance         1000 non-null   float64\n",
      " 9   loan_id              1000 non-null   int64  \n",
      " 10  max_days_delinquent  1000 non-null   int64  \n",
      " 11  age_of_loan          1000 non-null   int64  \n",
      " 12  no_of_loans          1000 non-null   int64  \n",
      " 13  credit_score         1000 non-null   int64  \n",
      " 14  income               1000 non-null   int64  \n",
      "dtypes: float64(2), int64(7), object(6)\n",
      "memory usage: 117.3+ KB\n"
     ]
    }
   ],
   "source": [
    "# Import packages\n",
    "from sklearn.cluster import KMeans\n",
    "import pandas as pd\n",
    "from sklearn.preprocessing import MinMaxScaler\n",
    "from matplotlib import pyplot as plt\n",
    "%matplotlib inline\n",
    "\n",
    "# Import the customer mock data\n",
    "df = pd.read_csv(\"demo.csv\")\n",
    "df.info()"
   ]
  },
  {
   "cell_type": "code",
   "execution_count": 17,
   "metadata": {},
   "outputs": [
    {
     "data": {
      "text/html": [
       "<div>\n",
       "<style scoped>\n",
       "    .dataframe tbody tr th:only-of-type {\n",
       "        vertical-align: middle;\n",
       "    }\n",
       "\n",
       "    .dataframe tbody tr th {\n",
       "        vertical-align: top;\n",
       "    }\n",
       "\n",
       "    .dataframe thead th {\n",
       "        text-align: right;\n",
       "    }\n",
       "</style>\n",
       "<table border=\"1\" class=\"dataframe\">\n",
       "  <thead>\n",
       "    <tr style=\"text-align: right;\">\n",
       "      <th></th>\n",
       "      <th>client_id</th>\n",
       "      <th>first_name</th>\n",
       "      <th>last_name</th>\n",
       "      <th>email</th>\n",
       "      <th>gender</th>\n",
       "      <th>country</th>\n",
       "      <th>state</th>\n",
       "      <th>loan_amount</th>\n",
       "      <th>loan_balance</th>\n",
       "      <th>loan_id</th>\n",
       "      <th>max_days_delinquent</th>\n",
       "      <th>age_of_loan</th>\n",
       "      <th>no_of_loans</th>\n",
       "      <th>credit_score</th>\n",
       "      <th>income</th>\n",
       "    </tr>\n",
       "  </thead>\n",
       "  <tbody>\n",
       "    <tr>\n",
       "      <th>0</th>\n",
       "      <td>47149</td>\n",
       "      <td>Duke</td>\n",
       "      <td>Minchell</td>\n",
       "      <td>dminchell0@whitehouse.gov</td>\n",
       "      <td>Male</td>\n",
       "      <td>United States</td>\n",
       "      <td>California</td>\n",
       "      <td>7282.91</td>\n",
       "      <td>1468.100293</td>\n",
       "      <td>81635</td>\n",
       "      <td>6</td>\n",
       "      <td>3</td>\n",
       "      <td>3</td>\n",
       "      <td>698</td>\n",
       "      <td>24803</td>\n",
       "    </tr>\n",
       "    <tr>\n",
       "      <th>1</th>\n",
       "      <td>89269</td>\n",
       "      <td>Monroe</td>\n",
       "      <td>Rennolds</td>\n",
       "      <td>mrennolds1@acquirethisname.com</td>\n",
       "      <td>Polygender</td>\n",
       "      <td>United States</td>\n",
       "      <td>California</td>\n",
       "      <td>8758.47</td>\n",
       "      <td>3170.080830</td>\n",
       "      <td>66578</td>\n",
       "      <td>7</td>\n",
       "      <td>7</td>\n",
       "      <td>4</td>\n",
       "      <td>357</td>\n",
       "      <td>57078</td>\n",
       "    </tr>\n",
       "    <tr>\n",
       "      <th>2</th>\n",
       "      <td>88935</td>\n",
       "      <td>Jolie</td>\n",
       "      <td>Padgett</td>\n",
       "      <td>jpadgett2@cafepress.com</td>\n",
       "      <td>Polygender</td>\n",
       "      <td>United States</td>\n",
       "      <td>New York</td>\n",
       "      <td>4385.26</td>\n",
       "      <td>601.955780</td>\n",
       "      <td>75059</td>\n",
       "      <td>1</td>\n",
       "      <td>1</td>\n",
       "      <td>4</td>\n",
       "      <td>473</td>\n",
       "      <td>28887</td>\n",
       "    </tr>\n",
       "    <tr>\n",
       "      <th>3</th>\n",
       "      <td>29833</td>\n",
       "      <td>Belita</td>\n",
       "      <td>Agneau</td>\n",
       "      <td>bagneau3@upenn.edu</td>\n",
       "      <td>Non-binary</td>\n",
       "      <td>United States</td>\n",
       "      <td>Florida</td>\n",
       "      <td>2060.16</td>\n",
       "      <td>518.389333</td>\n",
       "      <td>66372</td>\n",
       "      <td>1</td>\n",
       "      <td>6</td>\n",
       "      <td>2</td>\n",
       "      <td>628</td>\n",
       "      <td>55930</td>\n",
       "    </tr>\n",
       "    <tr>\n",
       "      <th>4</th>\n",
       "      <td>55856</td>\n",
       "      <td>Avery</td>\n",
       "      <td>Ayllett</td>\n",
       "      <td>aayllett4@blogs.com</td>\n",
       "      <td>Female</td>\n",
       "      <td>United States</td>\n",
       "      <td>California</td>\n",
       "      <td>3063.19</td>\n",
       "      <td>906.364284</td>\n",
       "      <td>69571</td>\n",
       "      <td>6</td>\n",
       "      <td>4</td>\n",
       "      <td>5</td>\n",
       "      <td>677</td>\n",
       "      <td>25977</td>\n",
       "    </tr>\n",
       "  </tbody>\n",
       "</table>\n",
       "</div>"
      ],
      "text/plain": [
       "   client_id first_name last_name                           email      gender  \\\n",
       "0      47149       Duke  Minchell       dminchell0@whitehouse.gov        Male   \n",
       "1      89269     Monroe  Rennolds  mrennolds1@acquirethisname.com  Polygender   \n",
       "2      88935      Jolie   Padgett         jpadgett2@cafepress.com  Polygender   \n",
       "3      29833     Belita    Agneau              bagneau3@upenn.edu  Non-binary   \n",
       "4      55856      Avery   Ayllett             aayllett4@blogs.com      Female   \n",
       "\n",
       "         country       state  loan_amount  loan_balance  loan_id  \\\n",
       "0  United States  California      7282.91   1468.100293    81635   \n",
       "1  United States  California      8758.47   3170.080830    66578   \n",
       "2  United States    New York      4385.26    601.955780    75059   \n",
       "3  United States     Florida      2060.16    518.389333    66372   \n",
       "4  United States  California      3063.19    906.364284    69571   \n",
       "\n",
       "   max_days_delinquent  age_of_loan  no_of_loans  credit_score  income  \n",
       "0                    6            3            3           698   24803  \n",
       "1                    7            7            4           357   57078  \n",
       "2                    1            1            4           473   28887  \n",
       "3                    1            6            2           628   55930  \n",
       "4                    6            4            5           677   25977  "
      ]
     },
     "execution_count": 17,
     "metadata": {},
     "output_type": "execute_result"
    }
   ],
   "source": [
    "# See some of the data\n",
    "df.head()"
   ]
  },
  {
   "cell_type": "markdown",
   "metadata": {},
   "source": [
    "### Scatter plot the data"
   ]
  },
  {
   "cell_type": "code",
   "execution_count": 18,
   "metadata": {},
   "outputs": [
    {
     "data": {
      "text/plain": [
       "Text(0, 0.5, 'Loan Amount')"
      ]
     },
     "execution_count": 18,
     "metadata": {},
     "output_type": "execute_result"
    },
    {
     "data": {
      "image/png": "[encoded data removed]",
      "text/plain": [
       "<Figure size 432x288 with 1 Axes>"
      ]
     },
     "metadata": {
      "needs_background": "light"
     },
     "output_type": "display_data"
    }
   ],
   "source": [
    "# Loan Amount and Loan Balance\n",
    "plt.scatter(df.loan_balance,df['loan_amount'])\n",
    "plt.xlabel('Loan Balance')\n",
    "plt.ylabel('Loan Amount')"
   ]
  },
  {
   "cell_type": "markdown",
   "metadata": {},
   "source": [
    "# 2. Use Machine Learning(k-means algorithm) for customer segmentation"
   ]
  },
  {
   "cell_type": "code",
   "execution_count": 19,
   "metadata": {},
   "outputs": [
    {
     "data": {
      "text/html": [
       "<div>\n",
       "<style scoped>\n",
       "    .dataframe tbody tr th:only-of-type {\n",
       "        vertical-align: middle;\n",
       "    }\n",
       "\n",
       "    .dataframe tbody tr th {\n",
       "        vertical-align: top;\n",
       "    }\n",
       "\n",
       "    .dataframe thead th {\n",
       "        text-align: right;\n",
       "    }\n",
       "</style>\n",
       "<table border=\"1\" class=\"dataframe\">\n",
       "  <thead>\n",
       "    <tr style=\"text-align: right;\">\n",
       "      <th></th>\n",
       "      <th>client_id</th>\n",
       "      <th>first_name</th>\n",
       "      <th>last_name</th>\n",
       "      <th>email</th>\n",
       "      <th>gender</th>\n",
       "      <th>country</th>\n",
       "      <th>state</th>\n",
       "      <th>loan_amount</th>\n",
       "      <th>loan_balance</th>\n",
       "      <th>loan_id</th>\n",
       "      <th>max_days_delinquent</th>\n",
       "      <th>age_of_loan</th>\n",
       "      <th>no_of_loans</th>\n",
       "      <th>credit_score</th>\n",
       "      <th>income</th>\n",
       "      <th>cluster</th>\n",
       "    </tr>\n",
       "  </thead>\n",
       "  <tbody>\n",
       "    <tr>\n",
       "      <th>0</th>\n",
       "      <td>47149</td>\n",
       "      <td>Duke</td>\n",
       "      <td>Minchell</td>\n",
       "      <td>dminchell0@whitehouse.gov</td>\n",
       "      <td>Male</td>\n",
       "      <td>United States</td>\n",
       "      <td>California</td>\n",
       "      <td>7282.91</td>\n",
       "      <td>1468.100293</td>\n",
       "      <td>81635</td>\n",
       "      <td>6</td>\n",
       "      <td>3</td>\n",
       "      <td>3</td>\n",
       "      <td>698</td>\n",
       "      <td>24803</td>\n",
       "      <td>1</td>\n",
       "    </tr>\n",
       "    <tr>\n",
       "      <th>1</th>\n",
       "      <td>89269</td>\n",
       "      <td>Monroe</td>\n",
       "      <td>Rennolds</td>\n",
       "      <td>mrennolds1@acquirethisname.com</td>\n",
       "      <td>Polygender</td>\n",
       "      <td>United States</td>\n",
       "      <td>California</td>\n",
       "      <td>8758.47</td>\n",
       "      <td>3170.080830</td>\n",
       "      <td>66578</td>\n",
       "      <td>7</td>\n",
       "      <td>7</td>\n",
       "      <td>4</td>\n",
       "      <td>357</td>\n",
       "      <td>57078</td>\n",
       "      <td>1</td>\n",
       "    </tr>\n",
       "    <tr>\n",
       "      <th>2</th>\n",
       "      <td>88935</td>\n",
       "      <td>Jolie</td>\n",
       "      <td>Padgett</td>\n",
       "      <td>jpadgett2@cafepress.com</td>\n",
       "      <td>Polygender</td>\n",
       "      <td>United States</td>\n",
       "      <td>New York</td>\n",
       "      <td>4385.26</td>\n",
       "      <td>601.955780</td>\n",
       "      <td>75059</td>\n",
       "      <td>1</td>\n",
       "      <td>1</td>\n",
       "      <td>4</td>\n",
       "      <td>473</td>\n",
       "      <td>28887</td>\n",
       "      <td>0</td>\n",
       "    </tr>\n",
       "    <tr>\n",
       "      <th>3</th>\n",
       "      <td>29833</td>\n",
       "      <td>Belita</td>\n",
       "      <td>Agneau</td>\n",
       "      <td>bagneau3@upenn.edu</td>\n",
       "      <td>Non-binary</td>\n",
       "      <td>United States</td>\n",
       "      <td>Florida</td>\n",
       "      <td>2060.16</td>\n",
       "      <td>518.389333</td>\n",
       "      <td>66372</td>\n",
       "      <td>1</td>\n",
       "      <td>6</td>\n",
       "      <td>2</td>\n",
       "      <td>628</td>\n",
       "      <td>55930</td>\n",
       "      <td>2</td>\n",
       "    </tr>\n",
       "    <tr>\n",
       "      <th>4</th>\n",
       "      <td>55856</td>\n",
       "      <td>Avery</td>\n",
       "      <td>Ayllett</td>\n",
       "      <td>aayllett4@blogs.com</td>\n",
       "      <td>Female</td>\n",
       "      <td>United States</td>\n",
       "      <td>California</td>\n",
       "      <td>3063.19</td>\n",
       "      <td>906.364284</td>\n",
       "      <td>69571</td>\n",
       "      <td>6</td>\n",
       "      <td>4</td>\n",
       "      <td>5</td>\n",
       "      <td>677</td>\n",
       "      <td>25977</td>\n",
       "      <td>2</td>\n",
       "    </tr>\n",
       "  </tbody>\n",
       "</table>\n",
       "</div>"
      ],
      "text/plain": [
       "   client_id first_name last_name                           email      gender  \\\n",
       "0      47149       Duke  Minchell       dminchell0@whitehouse.gov        Male   \n",
       "1      89269     Monroe  Rennolds  mrennolds1@acquirethisname.com  Polygender   \n",
       "2      88935      Jolie   Padgett         jpadgett2@cafepress.com  Polygender   \n",
       "3      29833     Belita    Agneau              bagneau3@upenn.edu  Non-binary   \n",
       "4      55856      Avery   Ayllett             aayllett4@blogs.com      Female   \n",
       "\n",
       "         country       state  loan_amount  loan_balance  loan_id  \\\n",
       "0  United States  California      7282.91   1468.100293    81635   \n",
       "1  United States  California      8758.47   3170.080830    66578   \n",
       "2  United States    New York      4385.26    601.955780    75059   \n",
       "3  United States     Florida      2060.16    518.389333    66372   \n",
       "4  United States  California      3063.19    906.364284    69571   \n",
       "\n",
       "   max_days_delinquent  age_of_loan  no_of_loans  credit_score  income  \\\n",
       "0                    6            3            3           698   24803   \n",
       "1                    7            7            4           357   57078   \n",
       "2                    1            1            4           473   28887   \n",
       "3                    1            6            2           628   55930   \n",
       "4                    6            4            5           677   25977   \n",
       "\n",
       "   cluster  \n",
       "0        1  \n",
       "1        1  \n",
       "2        0  \n",
       "3        2  \n",
       "4        2  "
      ]
     },
     "execution_count": 19,
     "metadata": {},
     "output_type": "execute_result"
    }
   ],
   "source": [
    "# Use 3 clusters and see the results,later we can fine tune after finding SSE (sum of squared estimate of errors)\n",
    "km = KMeans(n_clusters=3)\n",
    "y_predicted = km.fit_predict(df[['loan_balance','loan_amount']])\n",
    "# y_predicted\n",
    "df['cluster']=y_predicted\n",
    "df.head()"
   ]
  },
  {
   "cell_type": "code",
   "execution_count": 20,
   "metadata": {},
   "outputs": [
    {
     "data": {
      "text/plain": [
       "array([[1378.97972601, 5678.61586705],\n",
       "       [2187.7873448 , 8627.61752976],\n",
       "       [ 692.95852058, 2798.76481132]])"
      ]
     },
     "execution_count": 20,
     "metadata": {},
     "output_type": "execute_result"
    }
   ],
   "source": [
    "# Centroids\n",
    "km.cluster_centers_"
   ]
  },
  {
   "cell_type": "code",
   "execution_count": 21,
   "metadata": {},
   "outputs": [
    {
     "data": {
      "text/plain": [
       "<matplotlib.legend.Legend at 0x7f8e406397c0>"
      ]
     },
     "execution_count": 21,
     "metadata": {},
     "output_type": "execute_result"
    },
    {
     "data": {
      "image/png": "[encoded data removed]",
      "text/plain": [
       "<Figure size 432x288 with 1 Axes>"
      ]
     },
     "metadata": {
      "needs_background": "light"
     },
     "output_type": "display_data"
    }
   ],
   "source": [
    "df1 = df[df.cluster==0]\n",
    "df2 = df[df.cluster==1]\n",
    "df3 = df[df.cluster==2]\n",
    "plt.scatter(df1.loan_balance,df1['loan_amount'],color='green')\n",
    "plt.scatter(df2.loan_balance,df2['loan_amount'],color='red')\n",
    "plt.scatter(df3.loan_balance,df3['loan_amount'],color='black')\n",
    "plt.scatter(km.cluster_centers_[:,0],km.cluster_centers_[:,1],color='purple',marker='*',label='centroid')\n",
    "plt.xlabel('Loan Balance')\n",
    "plt.ylabel('Loan Amount')\n",
    "plt.legend()"
   ]
  },
  {
   "cell_type": "code",
   "execution_count": 22,
   "metadata": {},
   "outputs": [],
   "source": [
    "# scale loan balance and loan amount\n",
    "scaler = MinMaxScaler()\n",
    "scaler.fit(df[['loan_amount']])\n",
    "df['loan_amount'] = scaler.transform(df[['loan_amount']])\n",
    "\n",
    "scaler.fit(df[['loan_balance']])\n",
    "df['loan_balance'] = scaler.transform(df[['loan_balance']])"
   ]
  },
  {
   "cell_type": "code",
   "execution_count": 23,
   "metadata": {},
   "outputs": [
    {
     "data": {
      "text/html": [
       "<div>\n",
       "<style scoped>\n",
       "    .dataframe tbody tr th:only-of-type {\n",
       "        vertical-align: middle;\n",
       "    }\n",
       "\n",
       "    .dataframe tbody tr th {\n",
       "        vertical-align: top;\n",
       "    }\n",
       "\n",
       "    .dataframe thead th {\n",
       "        text-align: right;\n",
       "    }\n",
       "</style>\n",
       "<table border=\"1\" class=\"dataframe\">\n",
       "  <thead>\n",
       "    <tr style=\"text-align: right;\">\n",
       "      <th></th>\n",
       "      <th>client_id</th>\n",
       "      <th>first_name</th>\n",
       "      <th>last_name</th>\n",
       "      <th>email</th>\n",
       "      <th>gender</th>\n",
       "      <th>country</th>\n",
       "      <th>state</th>\n",
       "      <th>loan_amount</th>\n",
       "      <th>loan_balance</th>\n",
       "      <th>loan_id</th>\n",
       "      <th>max_days_delinquent</th>\n",
       "      <th>age_of_loan</th>\n",
       "      <th>no_of_loans</th>\n",
       "      <th>credit_score</th>\n",
       "      <th>income</th>\n",
       "      <th>cluster</th>\n",
       "    </tr>\n",
       "  </thead>\n",
       "  <tbody>\n",
       "    <tr>\n",
       "      <th>0</th>\n",
       "      <td>47149</td>\n",
       "      <td>Duke</td>\n",
       "      <td>Minchell</td>\n",
       "      <td>dminchell0@whitehouse.gov</td>\n",
       "      <td>Male</td>\n",
       "      <td>United States</td>\n",
       "      <td>California</td>\n",
       "      <td>0.684013</td>\n",
       "      <td>0.345218</td>\n",
       "      <td>81635</td>\n",
       "      <td>6</td>\n",
       "      <td>3</td>\n",
       "      <td>3</td>\n",
       "      <td>698</td>\n",
       "      <td>24803</td>\n",
       "      <td>1</td>\n",
       "    </tr>\n",
       "    <tr>\n",
       "      <th>1</th>\n",
       "      <td>89269</td>\n",
       "      <td>Monroe</td>\n",
       "      <td>Rennolds</td>\n",
       "      <td>mrennolds1@acquirethisname.com</td>\n",
       "      <td>Polygender</td>\n",
       "      <td>United States</td>\n",
       "      <td>California</td>\n",
       "      <td>0.856000</td>\n",
       "      <td>0.796582</td>\n",
       "      <td>66578</td>\n",
       "      <td>7</td>\n",
       "      <td>7</td>\n",
       "      <td>4</td>\n",
       "      <td>357</td>\n",
       "      <td>57078</td>\n",
       "      <td>1</td>\n",
       "    </tr>\n",
       "    <tr>\n",
       "      <th>2</th>\n",
       "      <td>88935</td>\n",
       "      <td>Jolie</td>\n",
       "      <td>Padgett</td>\n",
       "      <td>jpadgett2@cafepress.com</td>\n",
       "      <td>Polygender</td>\n",
       "      <td>United States</td>\n",
       "      <td>New York</td>\n",
       "      <td>0.346271</td>\n",
       "      <td>0.115517</td>\n",
       "      <td>75059</td>\n",
       "      <td>1</td>\n",
       "      <td>1</td>\n",
       "      <td>4</td>\n",
       "      <td>473</td>\n",
       "      <td>28887</td>\n",
       "      <td>0</td>\n",
       "    </tr>\n",
       "    <tr>\n",
       "      <th>3</th>\n",
       "      <td>29833</td>\n",
       "      <td>Belita</td>\n",
       "      <td>Agneau</td>\n",
       "      <td>bagneau3@upenn.edu</td>\n",
       "      <td>Non-binary</td>\n",
       "      <td>United States</td>\n",
       "      <td>Florida</td>\n",
       "      <td>0.075263</td>\n",
       "      <td>0.093355</td>\n",
       "      <td>66372</td>\n",
       "      <td>1</td>\n",
       "      <td>6</td>\n",
       "      <td>2</td>\n",
       "      <td>628</td>\n",
       "      <td>55930</td>\n",
       "      <td>2</td>\n",
       "    </tr>\n",
       "    <tr>\n",
       "      <th>4</th>\n",
       "      <td>55856</td>\n",
       "      <td>Avery</td>\n",
       "      <td>Ayllett</td>\n",
       "      <td>aayllett4@blogs.com</td>\n",
       "      <td>Female</td>\n",
       "      <td>United States</td>\n",
       "      <td>California</td>\n",
       "      <td>0.192174</td>\n",
       "      <td>0.196246</td>\n",
       "      <td>69571</td>\n",
       "      <td>6</td>\n",
       "      <td>4</td>\n",
       "      <td>5</td>\n",
       "      <td>677</td>\n",
       "      <td>25977</td>\n",
       "      <td>2</td>\n",
       "    </tr>\n",
       "  </tbody>\n",
       "</table>\n",
       "</div>"
      ],
      "text/plain": [
       "   client_id first_name last_name                           email      gender  \\\n",
       "0      47149       Duke  Minchell       dminchell0@whitehouse.gov        Male   \n",
       "1      89269     Monroe  Rennolds  mrennolds1@acquirethisname.com  Polygender   \n",
       "2      88935      Jolie   Padgett         jpadgett2@cafepress.com  Polygender   \n",
       "3      29833     Belita    Agneau              bagneau3@upenn.edu  Non-binary   \n",
       "4      55856      Avery   Ayllett             aayllett4@blogs.com      Female   \n",
       "\n",
       "         country       state  loan_amount  loan_balance  loan_id  \\\n",
       "0  United States  California     0.684013      0.345218    81635   \n",
       "1  United States  California     0.856000      0.796582    66578   \n",
       "2  United States    New York     0.346271      0.115517    75059   \n",
       "3  United States     Florida     0.075263      0.093355    66372   \n",
       "4  United States  California     0.192174      0.196246    69571   \n",
       "\n",
       "   max_days_delinquent  age_of_loan  no_of_loans  credit_score  income  \\\n",
       "0                    6            3            3           698   24803   \n",
       "1                    7            7            4           357   57078   \n",
       "2                    1            1            4           473   28887   \n",
       "3                    1            6            2           628   55930   \n",
       "4                    6            4            5           677   25977   \n",
       "\n",
       "   cluster  \n",
       "0        1  \n",
       "1        1  \n",
       "2        0  \n",
       "3        2  \n",
       "4        2  "
      ]
     },
     "execution_count": 23,
     "metadata": {},
     "output_type": "execute_result"
    }
   ],
   "source": [
    "df.head()"
   ]
  },
  {
   "cell_type": "markdown",
   "metadata": {},
   "source": [
    "### Scatter plot the data"
   ]
  },
  {
   "cell_type": "code",
   "execution_count": 24,
   "metadata": {},
   "outputs": [
    {
     "data": {
      "text/plain": [
       "<matplotlib.collections.PathCollection at 0x7f8e40cb4c40>"
      ]
     },
     "execution_count": 24,
     "metadata": {},
     "output_type": "execute_result"
    },
    {
     "data": {
      "image/png": "[encoded data removed]",
      "text/plain": [
       "<Figure size 432x288 with 1 Axes>"
      ]
     },
     "metadata": {
      "needs_background": "light"
     },
     "output_type": "display_data"
    }
   ],
   "source": [
    "plt.scatter(df.loan_balance,df['loan_amount'])"
   ]
  },
  {
   "cell_type": "markdown",
   "metadata": {},
   "source": [
    "### Run the model with 3 clusters"
   ]
  },
  {
   "cell_type": "code",
   "execution_count": 25,
   "metadata": {},
   "outputs": [
    {
     "data": {
      "text/html": [
       "<div>\n",
       "<style scoped>\n",
       "    .dataframe tbody tr th:only-of-type {\n",
       "        vertical-align: middle;\n",
       "    }\n",
       "\n",
       "    .dataframe tbody tr th {\n",
       "        vertical-align: top;\n",
       "    }\n",
       "\n",
       "    .dataframe thead th {\n",
       "        text-align: right;\n",
       "    }\n",
       "</style>\n",
       "<table border=\"1\" class=\"dataframe\">\n",
       "  <thead>\n",
       "    <tr style=\"text-align: right;\">\n",
       "      <th></th>\n",
       "      <th>client_id</th>\n",
       "      <th>first_name</th>\n",
       "      <th>last_name</th>\n",
       "      <th>email</th>\n",
       "      <th>gender</th>\n",
       "      <th>country</th>\n",
       "      <th>state</th>\n",
       "      <th>loan_amount</th>\n",
       "      <th>loan_balance</th>\n",
       "      <th>loan_id</th>\n",
       "      <th>max_days_delinquent</th>\n",
       "      <th>age_of_loan</th>\n",
       "      <th>no_of_loans</th>\n",
       "      <th>credit_score</th>\n",
       "      <th>income</th>\n",
       "      <th>cluster</th>\n",
       "    </tr>\n",
       "  </thead>\n",
       "  <tbody>\n",
       "    <tr>\n",
       "      <th>0</th>\n",
       "      <td>47149</td>\n",
       "      <td>Duke</td>\n",
       "      <td>Minchell</td>\n",
       "      <td>dminchell0@whitehouse.gov</td>\n",
       "      <td>Male</td>\n",
       "      <td>United States</td>\n",
       "      <td>California</td>\n",
       "      <td>0.684013</td>\n",
       "      <td>0.345218</td>\n",
       "      <td>81635</td>\n",
       "      <td>6</td>\n",
       "      <td>3</td>\n",
       "      <td>3</td>\n",
       "      <td>698</td>\n",
       "      <td>24803</td>\n",
       "      <td>1</td>\n",
       "    </tr>\n",
       "    <tr>\n",
       "      <th>1</th>\n",
       "      <td>89269</td>\n",
       "      <td>Monroe</td>\n",
       "      <td>Rennolds</td>\n",
       "      <td>mrennolds1@acquirethisname.com</td>\n",
       "      <td>Polygender</td>\n",
       "      <td>United States</td>\n",
       "      <td>California</td>\n",
       "      <td>0.856000</td>\n",
       "      <td>0.796582</td>\n",
       "      <td>66578</td>\n",
       "      <td>7</td>\n",
       "      <td>7</td>\n",
       "      <td>4</td>\n",
       "      <td>357</td>\n",
       "      <td>57078</td>\n",
       "      <td>0</td>\n",
       "    </tr>\n",
       "    <tr>\n",
       "      <th>2</th>\n",
       "      <td>88935</td>\n",
       "      <td>Jolie</td>\n",
       "      <td>Padgett</td>\n",
       "      <td>jpadgett2@cafepress.com</td>\n",
       "      <td>Polygender</td>\n",
       "      <td>United States</td>\n",
       "      <td>New York</td>\n",
       "      <td>0.346271</td>\n",
       "      <td>0.115517</td>\n",
       "      <td>75059</td>\n",
       "      <td>1</td>\n",
       "      <td>1</td>\n",
       "      <td>4</td>\n",
       "      <td>473</td>\n",
       "      <td>28887</td>\n",
       "      <td>2</td>\n",
       "    </tr>\n",
       "    <tr>\n",
       "      <th>3</th>\n",
       "      <td>29833</td>\n",
       "      <td>Belita</td>\n",
       "      <td>Agneau</td>\n",
       "      <td>bagneau3@upenn.edu</td>\n",
       "      <td>Non-binary</td>\n",
       "      <td>United States</td>\n",
       "      <td>Florida</td>\n",
       "      <td>0.075263</td>\n",
       "      <td>0.093355</td>\n",
       "      <td>66372</td>\n",
       "      <td>1</td>\n",
       "      <td>6</td>\n",
       "      <td>2</td>\n",
       "      <td>628</td>\n",
       "      <td>55930</td>\n",
       "      <td>2</td>\n",
       "    </tr>\n",
       "    <tr>\n",
       "      <th>4</th>\n",
       "      <td>55856</td>\n",
       "      <td>Avery</td>\n",
       "      <td>Ayllett</td>\n",
       "      <td>aayllett4@blogs.com</td>\n",
       "      <td>Female</td>\n",
       "      <td>United States</td>\n",
       "      <td>California</td>\n",
       "      <td>0.192174</td>\n",
       "      <td>0.196246</td>\n",
       "      <td>69571</td>\n",
       "      <td>6</td>\n",
       "      <td>4</td>\n",
       "      <td>5</td>\n",
       "      <td>677</td>\n",
       "      <td>25977</td>\n",
       "      <td>2</td>\n",
       "    </tr>\n",
       "  </tbody>\n",
       "</table>\n",
       "</div>"
      ],
      "text/plain": [
       "   client_id first_name last_name                           email      gender  \\\n",
       "0      47149       Duke  Minchell       dminchell0@whitehouse.gov        Male   \n",
       "1      89269     Monroe  Rennolds  mrennolds1@acquirethisname.com  Polygender   \n",
       "2      88935      Jolie   Padgett         jpadgett2@cafepress.com  Polygender   \n",
       "3      29833     Belita    Agneau              bagneau3@upenn.edu  Non-binary   \n",
       "4      55856      Avery   Ayllett             aayllett4@blogs.com      Female   \n",
       "\n",
       "         country       state  loan_amount  loan_balance  loan_id  \\\n",
       "0  United States  California     0.684013      0.345218    81635   \n",
       "1  United States  California     0.856000      0.796582    66578   \n",
       "2  United States    New York     0.346271      0.115517    75059   \n",
       "3  United States     Florida     0.075263      0.093355    66372   \n",
       "4  United States  California     0.192174      0.196246    69571   \n",
       "\n",
       "   max_days_delinquent  age_of_loan  no_of_loans  credit_score  income  \\\n",
       "0                    6            3            3           698   24803   \n",
       "1                    7            7            4           357   57078   \n",
       "2                    1            1            4           473   28887   \n",
       "3                    1            6            2           628   55930   \n",
       "4                    6            4            5           677   25977   \n",
       "\n",
       "   cluster  \n",
       "0        1  \n",
       "1        0  \n",
       "2        2  \n",
       "3        2  \n",
       "4        2  "
      ]
     },
     "execution_count": 25,
     "metadata": {},
     "output_type": "execute_result"
    }
   ],
   "source": [
    "km = KMeans(n_clusters=3)\n",
    "df['cluster']= km.fit_predict(df[['loan_balance','loan_amount']])\n",
    "df.head()"
   ]
  },
  {
   "cell_type": "code",
   "execution_count": 26,
   "metadata": {},
   "outputs": [
    {
     "data": {
      "text/plain": [
       "array([[0.57243113, 0.83281496],\n",
       "       [0.30289909, 0.51037514],\n",
       "       [0.12844881, 0.16077717]])"
      ]
     },
     "execution_count": 26,
     "metadata": {},
     "output_type": "execute_result"
    }
   ],
   "source": [
    "#Centroids\n",
    "km.cluster_centers_"
   ]
  },
  {
   "cell_type": "markdown",
   "metadata": {},
   "source": [
    "### Results with 3 Clusters  -  Loan Amount vs Loan Balance"
   ]
  },
  {
   "cell_type": "code",
   "execution_count": 27,
   "metadata": {},
   "outputs": [
    {
     "data": {
      "text/plain": [
       "<matplotlib.legend.Legend at 0x7f8e40f1ce50>"
      ]
     },
     "execution_count": 27,
     "metadata": {},
     "output_type": "execute_result"
    },
    {
     "data": {
      "image/png": "[encoded data removed]",
      "text/plain": [
       "<Figure size 432x288 with 1 Axes>"
      ]
     },
     "metadata": {
      "needs_background": "light"
     },
     "output_type": "display_data"
    }
   ],
   "source": [
    "df1 = df[df.cluster==0]\n",
    "df2 = df[df.cluster==1]\n",
    "df3 = df[df.cluster==2]\n",
    "plt.scatter(df1.loan_balance,df1['loan_amount'],color='green')\n",
    "plt.scatter(df2.loan_balance,df2['loan_amount'],color='red')\n",
    "plt.scatter(df3.loan_balance,df3['loan_amount'],color='black')\n",
    "plt.scatter(km.cluster_centers_[:,0],km.cluster_centers_[:,1],color='purple',marker='*',label='centroid')\n",
    "plt.xlabel('Loan Balance')\n",
    "plt.ylabel('Loan Amount')\n",
    "plt.legend()"
   ]
  },
  {
   "cell_type": "code",
   "execution_count": 28,
   "metadata": {},
   "outputs": [
    {
     "data": {
      "text/html": [
       "<div>\n",
       "<style scoped>\n",
       "    .dataframe tbody tr th:only-of-type {\n",
       "        vertical-align: middle;\n",
       "    }\n",
       "\n",
       "    .dataframe tbody tr th {\n",
       "        vertical-align: top;\n",
       "    }\n",
       "\n",
       "    .dataframe thead th {\n",
       "        text-align: right;\n",
       "    }\n",
       "</style>\n",
       "<table border=\"1\" class=\"dataframe\">\n",
       "  <thead>\n",
       "    <tr style=\"text-align: right;\">\n",
       "      <th></th>\n",
       "      <th>client_id</th>\n",
       "      <th>first_name</th>\n",
       "      <th>last_name</th>\n",
       "      <th>email</th>\n",
       "      <th>gender</th>\n",
       "      <th>country</th>\n",
       "      <th>state</th>\n",
       "      <th>loan_amount</th>\n",
       "      <th>loan_balance</th>\n",
       "      <th>loan_id</th>\n",
       "      <th>max_days_delinquent</th>\n",
       "      <th>age_of_loan</th>\n",
       "      <th>no_of_loans</th>\n",
       "      <th>credit_score</th>\n",
       "      <th>income</th>\n",
       "      <th>cluster</th>\n",
       "    </tr>\n",
       "  </thead>\n",
       "  <tbody>\n",
       "    <tr>\n",
       "      <th>0</th>\n",
       "      <td>47149</td>\n",
       "      <td>Duke</td>\n",
       "      <td>Minchell</td>\n",
       "      <td>dminchell0@whitehouse.gov</td>\n",
       "      <td>Male</td>\n",
       "      <td>United States</td>\n",
       "      <td>California</td>\n",
       "      <td>0.684013</td>\n",
       "      <td>0.345218</td>\n",
       "      <td>81635</td>\n",
       "      <td>6</td>\n",
       "      <td>3</td>\n",
       "      <td>3</td>\n",
       "      <td>698</td>\n",
       "      <td>24803</td>\n",
       "      <td>1</td>\n",
       "    </tr>\n",
       "    <tr>\n",
       "      <th>5</th>\n",
       "      <td>40643</td>\n",
       "      <td>Kenneth</td>\n",
       "      <td>Doucette</td>\n",
       "      <td>kdoucette5@hatena.ne.jp</td>\n",
       "      <td>Male</td>\n",
       "      <td>United States</td>\n",
       "      <td>Texas</td>\n",
       "      <td>0.340839</td>\n",
       "      <td>0.238133</td>\n",
       "      <td>78117</td>\n",
       "      <td>10</td>\n",
       "      <td>9</td>\n",
       "      <td>3</td>\n",
       "      <td>416</td>\n",
       "      <td>41214</td>\n",
       "      <td>1</td>\n",
       "    </tr>\n",
       "    <tr>\n",
       "      <th>8</th>\n",
       "      <td>56578</td>\n",
       "      <td>Leonerd</td>\n",
       "      <td>Elner</td>\n",
       "      <td>lelner8@uiuc.edu</td>\n",
       "      <td>Bigender</td>\n",
       "      <td>United States</td>\n",
       "      <td>Florida</td>\n",
       "      <td>0.332897</td>\n",
       "      <td>0.402933</td>\n",
       "      <td>71764</td>\n",
       "      <td>6</td>\n",
       "      <td>5</td>\n",
       "      <td>1</td>\n",
       "      <td>731</td>\n",
       "      <td>25517</td>\n",
       "      <td>1</td>\n",
       "    </tr>\n",
       "    <tr>\n",
       "      <th>9</th>\n",
       "      <td>76671</td>\n",
       "      <td>Appolonia</td>\n",
       "      <td>Howlin</td>\n",
       "      <td>ahowlin9@ifeng.com</td>\n",
       "      <td>Polygender</td>\n",
       "      <td>United States</td>\n",
       "      <td>Florida</td>\n",
       "      <td>0.834297</td>\n",
       "      <td>0.235165</td>\n",
       "      <td>82744</td>\n",
       "      <td>9</td>\n",
       "      <td>5</td>\n",
       "      <td>4</td>\n",
       "      <td>692</td>\n",
       "      <td>24267</td>\n",
       "      <td>1</td>\n",
       "    </tr>\n",
       "    <tr>\n",
       "      <th>10</th>\n",
       "      <td>41301</td>\n",
       "      <td>Krissy</td>\n",
       "      <td>Kinner</td>\n",
       "      <td>kkinnera@cam.ac.uk</td>\n",
       "      <td>Agender</td>\n",
       "      <td>United States</td>\n",
       "      <td>New York</td>\n",
       "      <td>0.439399</td>\n",
       "      <td>0.375506</td>\n",
       "      <td>94459</td>\n",
       "      <td>2</td>\n",
       "      <td>4</td>\n",
       "      <td>3</td>\n",
       "      <td>793</td>\n",
       "      <td>51855</td>\n",
       "      <td>1</td>\n",
       "    </tr>\n",
       "  </tbody>\n",
       "</table>\n",
       "</div>"
      ],
      "text/plain": [
       "    client_id first_name last_name                      email      gender  \\\n",
       "0       47149       Duke  Minchell  dminchell0@whitehouse.gov        Male   \n",
       "5       40643    Kenneth  Doucette    kdoucette5@hatena.ne.jp        Male   \n",
       "8       56578    Leonerd     Elner           lelner8@uiuc.edu    Bigender   \n",
       "9       76671  Appolonia    Howlin         ahowlin9@ifeng.com  Polygender   \n",
       "10      41301     Krissy    Kinner         kkinnera@cam.ac.uk     Agender   \n",
       "\n",
       "          country       state  loan_amount  loan_balance  loan_id  \\\n",
       "0   United States  California     0.684013      0.345218    81635   \n",
       "5   United States       Texas     0.340839      0.238133    78117   \n",
       "8   United States     Florida     0.332897      0.402933    71764   \n",
       "9   United States     Florida     0.834297      0.235165    82744   \n",
       "10  United States    New York     0.439399      0.375506    94459   \n",
       "\n",
       "    max_days_delinquent  age_of_loan  no_of_loans  credit_score  income  \\\n",
       "0                     6            3            3           698   24803   \n",
       "5                    10            9            3           416   41214   \n",
       "8                     6            5            1           731   25517   \n",
       "9                     9            5            4           692   24267   \n",
       "10                    2            4            3           793   51855   \n",
       "\n",
       "    cluster  \n",
       "0         1  \n",
       "5         1  \n",
       "8         1  \n",
       "9         1  \n",
       "10        1  "
      ]
     },
     "execution_count": 28,
     "metadata": {},
     "output_type": "execute_result"
    }
   ],
   "source": [
    "# get the users in cluster green\n",
    "df2.head()"
   ]
  },
  {
   "cell_type": "markdown",
   "metadata": {},
   "source": [
    "### Find the right cluster size from Elbow Chart"
   ]
  },
  {
   "cell_type": "code",
   "execution_count": 29,
   "metadata": {},
   "outputs": [],
   "source": [
    "#Sum of Squared Errors  - measure of variation within a cluster\n",
    "sse = []\n",
    "k_rng = range(1,10)\n",
    "for k in k_rng:\n",
    "    km = KMeans(n_clusters=k)\n",
    "    km.fit(df[['loan_balance','loan_amount']])\n",
    "    sse.append(km.inertia_)"
   ]
  },
  {
   "cell_type": "code",
   "execution_count": 30,
   "metadata": {},
   "outputs": [
    {
     "data": {
      "text/plain": [
       "[<matplotlib.lines.Line2D at 0x7f8e40fa4f40>]"
      ]
     },
     "execution_count": 30,
     "metadata": {},
     "output_type": "execute_result"
    },
    {
     "data": {
      "image/png": "[encoded data removed]",
      "text/plain": [
       "<Figure size 432x288 with 1 Axes>"
      ]
     },
     "metadata": {
      "needs_background": "light"
     },
     "output_type": "display_data"
    }
   ],
   "source": [
    "plt.xlabel('K')\n",
    "plt.ylabel('Sum of squared error')\n",
    "plt.plot(k_rng,sse)"
   ]
  },
  {
   "cell_type": "markdown",
   "metadata": {},
   "source": [
    "### Retrain the Model 4 clusters as required from the Elbow Chart"
   ]
  },
  {
   "cell_type": "code",
   "execution_count": 31,
   "metadata": {},
   "outputs": [
    {
     "data": {
      "text/html": [
       "<div>\n",
       "<style scoped>\n",
       "    .dataframe tbody tr th:only-of-type {\n",
       "        vertical-align: middle;\n",
       "    }\n",
       "\n",
       "    .dataframe tbody tr th {\n",
       "        vertical-align: top;\n",
       "    }\n",
       "\n",
       "    .dataframe thead th {\n",
       "        text-align: right;\n",
       "    }\n",
       "</style>\n",
       "<table border=\"1\" class=\"dataframe\">\n",
       "  <thead>\n",
       "    <tr style=\"text-align: right;\">\n",
       "      <th></th>\n",
       "      <th>client_id</th>\n",
       "      <th>first_name</th>\n",
       "      <th>last_name</th>\n",
       "      <th>email</th>\n",
       "      <th>gender</th>\n",
       "      <th>country</th>\n",
       "      <th>state</th>\n",
       "      <th>loan_amount</th>\n",
       "      <th>loan_balance</th>\n",
       "      <th>loan_id</th>\n",
       "      <th>max_days_delinquent</th>\n",
       "      <th>age_of_loan</th>\n",
       "      <th>no_of_loans</th>\n",
       "      <th>credit_score</th>\n",
       "      <th>income</th>\n",
       "      <th>cluster</th>\n",
       "    </tr>\n",
       "  </thead>\n",
       "  <tbody>\n",
       "    <tr>\n",
       "      <th>0</th>\n",
       "      <td>47149</td>\n",
       "      <td>Duke</td>\n",
       "      <td>Minchell</td>\n",
       "      <td>dminchell0@whitehouse.gov</td>\n",
       "      <td>Male</td>\n",
       "      <td>United States</td>\n",
       "      <td>California</td>\n",
       "      <td>0.684013</td>\n",
       "      <td>0.345218</td>\n",
       "      <td>81635</td>\n",
       "      <td>6</td>\n",
       "      <td>3</td>\n",
       "      <td>3</td>\n",
       "      <td>698</td>\n",
       "      <td>24803</td>\n",
       "      <td>3</td>\n",
       "    </tr>\n",
       "    <tr>\n",
       "      <th>1</th>\n",
       "      <td>89269</td>\n",
       "      <td>Monroe</td>\n",
       "      <td>Rennolds</td>\n",
       "      <td>mrennolds1@acquirethisname.com</td>\n",
       "      <td>Polygender</td>\n",
       "      <td>United States</td>\n",
       "      <td>California</td>\n",
       "      <td>0.856000</td>\n",
       "      <td>0.796582</td>\n",
       "      <td>66578</td>\n",
       "      <td>7</td>\n",
       "      <td>7</td>\n",
       "      <td>4</td>\n",
       "      <td>357</td>\n",
       "      <td>57078</td>\n",
       "      <td>1</td>\n",
       "    </tr>\n",
       "    <tr>\n",
       "      <th>2</th>\n",
       "      <td>88935</td>\n",
       "      <td>Jolie</td>\n",
       "      <td>Padgett</td>\n",
       "      <td>jpadgett2@cafepress.com</td>\n",
       "      <td>Polygender</td>\n",
       "      <td>United States</td>\n",
       "      <td>New York</td>\n",
       "      <td>0.346271</td>\n",
       "      <td>0.115517</td>\n",
       "      <td>75059</td>\n",
       "      <td>1</td>\n",
       "      <td>1</td>\n",
       "      <td>4</td>\n",
       "      <td>473</td>\n",
       "      <td>28887</td>\n",
       "      <td>2</td>\n",
       "    </tr>\n",
       "    <tr>\n",
       "      <th>3</th>\n",
       "      <td>29833</td>\n",
       "      <td>Belita</td>\n",
       "      <td>Agneau</td>\n",
       "      <td>bagneau3@upenn.edu</td>\n",
       "      <td>Non-binary</td>\n",
       "      <td>United States</td>\n",
       "      <td>Florida</td>\n",
       "      <td>0.075263</td>\n",
       "      <td>0.093355</td>\n",
       "      <td>66372</td>\n",
       "      <td>1</td>\n",
       "      <td>6</td>\n",
       "      <td>2</td>\n",
       "      <td>628</td>\n",
       "      <td>55930</td>\n",
       "      <td>2</td>\n",
       "    </tr>\n",
       "    <tr>\n",
       "      <th>4</th>\n",
       "      <td>55856</td>\n",
       "      <td>Avery</td>\n",
       "      <td>Ayllett</td>\n",
       "      <td>aayllett4@blogs.com</td>\n",
       "      <td>Female</td>\n",
       "      <td>United States</td>\n",
       "      <td>California</td>\n",
       "      <td>0.192174</td>\n",
       "      <td>0.196246</td>\n",
       "      <td>69571</td>\n",
       "      <td>6</td>\n",
       "      <td>4</td>\n",
       "      <td>5</td>\n",
       "      <td>677</td>\n",
       "      <td>25977</td>\n",
       "      <td>2</td>\n",
       "    </tr>\n",
       "  </tbody>\n",
       "</table>\n",
       "</div>"
      ],
      "text/plain": [
       "   client_id first_name last_name                           email      gender  \\\n",
       "0      47149       Duke  Minchell       dminchell0@whitehouse.gov        Male   \n",
       "1      89269     Monroe  Rennolds  mrennolds1@acquirethisname.com  Polygender   \n",
       "2      88935      Jolie   Padgett         jpadgett2@cafepress.com  Polygender   \n",
       "3      29833     Belita    Agneau              bagneau3@upenn.edu  Non-binary   \n",
       "4      55856      Avery   Ayllett             aayllett4@blogs.com      Female   \n",
       "\n",
       "         country       state  loan_amount  loan_balance  loan_id  \\\n",
       "0  United States  California     0.684013      0.345218    81635   \n",
       "1  United States  California     0.856000      0.796582    66578   \n",
       "2  United States    New York     0.346271      0.115517    75059   \n",
       "3  United States     Florida     0.075263      0.093355    66372   \n",
       "4  United States  California     0.192174      0.196246    69571   \n",
       "\n",
       "   max_days_delinquent  age_of_loan  no_of_loans  credit_score  income  \\\n",
       "0                    6            3            3           698   24803   \n",
       "1                    7            7            4           357   57078   \n",
       "2                    1            1            4           473   28887   \n",
       "3                    1            6            2           628   55930   \n",
       "4                    6            4            5           677   25977   \n",
       "\n",
       "   cluster  \n",
       "0        3  \n",
       "1        1  \n",
       "2        2  \n",
       "3        2  \n",
       "4        2  "
      ]
     },
     "execution_count": 31,
     "metadata": {},
     "output_type": "execute_result"
    }
   ],
   "source": [
    "km = KMeans(n_clusters=4)\n",
    "y_predicted = km.fit_predict(df[['loan_balance','loan_amount']])\n",
    "# y_predicted\n",
    "df['cluster']=y_predicted\n",
    "df.head()"
   ]
  },
  {
   "cell_type": "code",
   "execution_count": 32,
   "metadata": {},
   "outputs": [
    {
     "data": {
      "text/plain": [
       "array([[0.29918194, 0.44913837],\n",
       "       [0.7123883 , 0.84244468],\n",
       "       [0.1199509 , 0.14886173],\n",
       "       [0.38421798, 0.78603678]])"
      ]
     },
     "execution_count": 32,
     "metadata": {},
     "output_type": "execute_result"
    }
   ],
   "source": [
    "#Centroids\n",
    "km.cluster_centers_"
   ]
  },
  {
   "cell_type": "markdown",
   "metadata": {},
   "source": [
    "\n",
    "### Results with 4 clusters - Loan Amount vs Loan Balance\n",
    "<br/>\n",
    "<br/>"
   ]
  },
  {
   "cell_type": "code",
   "execution_count": 33,
   "metadata": {},
   "outputs": [
    {
     "data": {
      "text/plain": [
       "<matplotlib.legend.Legend at 0x7f8e41620dc0>"
      ]
     },
     "execution_count": 33,
     "metadata": {},
     "output_type": "execute_result"
    },
    {
     "data": {
      "image/png": "[encoded data removed]",
      "text/plain": [
       "<Figure size 432x288 with 1 Axes>"
      ]
     },
     "metadata": {
      "needs_background": "light"
     },
     "output_type": "display_data"
    }
   ],
   "source": [
    "df1 = df[df.cluster==0]\n",
    "df2 = df[df.cluster==1]\n",
    "df3 = df[df.cluster==2]\n",
    "df4 = df[df.cluster==3]\n",
    "plt.scatter(df1.loan_balance,df1['loan_amount'],color='green')\n",
    "plt.scatter(df2.loan_balance,df2['loan_amount'],color='red')\n",
    "plt.scatter(df3.loan_balance,df3['loan_amount'],color='black')\n",
    "plt.scatter(df4.loan_balance,df4['loan_amount'],color='orange')\n",
    "plt.scatter(km.cluster_centers_[:,0],km.cluster_centers_[:,1],color='purple',marker='*',label='centroid')\n",
    "plt.xlabel('Loan Balance')\n",
    "plt.ylabel('Loan Amount')\n",
    "plt.legend()"
   ]
  },
  {
   "cell_type": "markdown",
   "metadata": {},
   "source": [
    "# 3. Pick the right customer segment"
   ]
  },
  {
   "cell_type": "code",
   "execution_count": 34,
   "metadata": {},
   "outputs": [
    {
     "data": {
      "text/html": [
       "<div>\n",
       "<style scoped>\n",
       "    .dataframe tbody tr th:only-of-type {\n",
       "        vertical-align: middle;\n",
       "    }\n",
       "\n",
       "    .dataframe tbody tr th {\n",
       "        vertical-align: top;\n",
       "    }\n",
       "\n",
       "    .dataframe thead th {\n",
       "        text-align: right;\n",
       "    }\n",
       "</style>\n",
       "<table border=\"1\" class=\"dataframe\">\n",
       "  <thead>\n",
       "    <tr style=\"text-align: right;\">\n",
       "      <th></th>\n",
       "      <th>client_id</th>\n",
       "      <th>first_name</th>\n",
       "      <th>last_name</th>\n",
       "      <th>email</th>\n",
       "      <th>gender</th>\n",
       "      <th>country</th>\n",
       "      <th>state</th>\n",
       "      <th>loan_amount</th>\n",
       "      <th>loan_balance</th>\n",
       "      <th>loan_id</th>\n",
       "      <th>max_days_delinquent</th>\n",
       "      <th>age_of_loan</th>\n",
       "      <th>no_of_loans</th>\n",
       "      <th>credit_score</th>\n",
       "      <th>income</th>\n",
       "      <th>cluster</th>\n",
       "    </tr>\n",
       "  </thead>\n",
       "  <tbody>\n",
       "    <tr>\n",
       "      <th>0</th>\n",
       "      <td>47149</td>\n",
       "      <td>Duke</td>\n",
       "      <td>Minchell</td>\n",
       "      <td>dminchell0@whitehouse.gov</td>\n",
       "      <td>Male</td>\n",
       "      <td>United States</td>\n",
       "      <td>California</td>\n",
       "      <td>0.684013</td>\n",
       "      <td>0.345218</td>\n",
       "      <td>81635</td>\n",
       "      <td>6</td>\n",
       "      <td>3</td>\n",
       "      <td>3</td>\n",
       "      <td>698</td>\n",
       "      <td>24803</td>\n",
       "      <td>3</td>\n",
       "    </tr>\n",
       "    <tr>\n",
       "      <th>9</th>\n",
       "      <td>76671</td>\n",
       "      <td>Appolonia</td>\n",
       "      <td>Howlin</td>\n",
       "      <td>ahowlin9@ifeng.com</td>\n",
       "      <td>Polygender</td>\n",
       "      <td>United States</td>\n",
       "      <td>Florida</td>\n",
       "      <td>0.834297</td>\n",
       "      <td>0.235165</td>\n",
       "      <td>82744</td>\n",
       "      <td>9</td>\n",
       "      <td>5</td>\n",
       "      <td>4</td>\n",
       "      <td>692</td>\n",
       "      <td>24267</td>\n",
       "      <td>3</td>\n",
       "    </tr>\n",
       "    <tr>\n",
       "      <th>14</th>\n",
       "      <td>26223</td>\n",
       "      <td>Lorrayne</td>\n",
       "      <td>Mityushin</td>\n",
       "      <td>lmityushine@skype.com</td>\n",
       "      <td>Male</td>\n",
       "      <td>United States</td>\n",
       "      <td>Texas</td>\n",
       "      <td>0.595093</td>\n",
       "      <td>0.566223</td>\n",
       "      <td>81146</td>\n",
       "      <td>8</td>\n",
       "      <td>2</td>\n",
       "      <td>3</td>\n",
       "      <td>518</td>\n",
       "      <td>46615</td>\n",
       "      <td>3</td>\n",
       "    </tr>\n",
       "    <tr>\n",
       "      <th>16</th>\n",
       "      <td>51984</td>\n",
       "      <td>Burtie</td>\n",
       "      <td>Cranmor</td>\n",
       "      <td>bcranmorg@loc.gov</td>\n",
       "      <td>Non-binary</td>\n",
       "      <td>United States</td>\n",
       "      <td>California</td>\n",
       "      <td>0.700343</td>\n",
       "      <td>0.398451</td>\n",
       "      <td>94862</td>\n",
       "      <td>9</td>\n",
       "      <td>7</td>\n",
       "      <td>4</td>\n",
       "      <td>369</td>\n",
       "      <td>51367</td>\n",
       "      <td>3</td>\n",
       "    </tr>\n",
       "    <tr>\n",
       "      <th>20</th>\n",
       "      <td>64010</td>\n",
       "      <td>Chelsea</td>\n",
       "      <td>Buckett</td>\n",
       "      <td>cbuckettk@abc.net.au</td>\n",
       "      <td>Male</td>\n",
       "      <td>United States</td>\n",
       "      <td>Florida</td>\n",
       "      <td>0.957727</td>\n",
       "      <td>0.261611</td>\n",
       "      <td>78008</td>\n",
       "      <td>8</td>\n",
       "      <td>8</td>\n",
       "      <td>1</td>\n",
       "      <td>375</td>\n",
       "      <td>32667</td>\n",
       "      <td>3</td>\n",
       "    </tr>\n",
       "  </tbody>\n",
       "</table>\n",
       "</div>"
      ],
      "text/plain": [
       "    client_id first_name  last_name                      email      gender  \\\n",
       "0       47149       Duke   Minchell  dminchell0@whitehouse.gov        Male   \n",
       "9       76671  Appolonia     Howlin         ahowlin9@ifeng.com  Polygender   \n",
       "14      26223   Lorrayne  Mityushin      lmityushine@skype.com        Male   \n",
       "16      51984     Burtie    Cranmor          bcranmorg@loc.gov  Non-binary   \n",
       "20      64010    Chelsea    Buckett       cbuckettk@abc.net.au        Male   \n",
       "\n",
       "          country       state  loan_amount  loan_balance  loan_id  \\\n",
       "0   United States  California     0.684013      0.345218    81635   \n",
       "9   United States     Florida     0.834297      0.235165    82744   \n",
       "14  United States       Texas     0.595093      0.566223    81146   \n",
       "16  United States  California     0.700343      0.398451    94862   \n",
       "20  United States     Florida     0.957727      0.261611    78008   \n",
       "\n",
       "    max_days_delinquent  age_of_loan  no_of_loans  credit_score  income  \\\n",
       "0                     6            3            3           698   24803   \n",
       "9                     9            5            4           692   24267   \n",
       "14                    8            2            3           518   46615   \n",
       "16                    9            7            4           369   51367   \n",
       "20                    8            8            1           375   32667   \n",
       "\n",
       "    cluster  \n",
       "0         3  \n",
       "9         3  \n",
       "14        3  \n",
       "16        3  \n",
       "20        3  "
      ]
     },
     "execution_count": 34,
     "metadata": {},
     "output_type": "execute_result"
    }
   ],
   "source": [
    "# Use customer id belongs to the customer \n",
    "df4.head()  # Target customers who are having low loan balance with higher loan amount"
   ]
  },
  {
   "cell_type": "markdown",
   "metadata": {},
   "source": [
    "# 4.  Share/Run the selected segement for promotions"
   ]
  },
  {
   "cell_type": "code",
   "execution_count": 35,
   "metadata": {},
   "outputs": [
    {
     "name": "stdout",
     "output_type": "stream",
     "text": [
      "Total No of Users 1000\n",
      "Users in cluster df1 - 314\n",
      "Users in cluster df2 - 165\n",
      "Users in cluster df3 - 289\n",
      "Users in cluster df4 - 232\n"
     ]
    }
   ],
   "source": [
    "# see what is inside of specific segmentation based on business needs\n",
    "print(f'Total No of Users {len(df)}')\n",
    "print(f'Users in cluster df1 - {len(df1)}')\n",
    "print(f'Users in cluster df2 - {len(df2)}')\n",
    "print(f'Users in cluster df3 - {len(df3)}')\n",
    "print(f'Users in cluster df4 - {len(df4)}')\n",
    "\n",
    "# sers in cluster df4 - 288  ( Yellow)"
   ]
  },
  {
   "cell_type": "code",
   "execution_count": 36,
   "metadata": {},
   "outputs": [],
   "source": [
    "# Save the results to csv \n",
    "df.to_csv('users_for_rewards.csv', index=False)"
   ]
  },
  {
   "cell_type": "markdown",
   "metadata": {},
   "source": [
    "# 5. Other Cases - Train Model with 4 Clusters\n",
    " "
   ]
  },
  {
   "cell_type": "markdown",
   "metadata": {},
   "source": [
    "###   Credit Score vs Loan Balance"
   ]
  },
  {
   "cell_type": "code",
   "execution_count": 37,
   "metadata": {},
   "outputs": [
    {
     "data": {
      "text/plain": [
       "<matplotlib.legend.Legend at 0x7f8e41786d00>"
      ]
     },
     "execution_count": 37,
     "metadata": {},
     "output_type": "execute_result"
    },
    {
     "data": {
      "image/png": "[encoded data removed]",
      "text/plain": [
       "<Figure size 432x288 with 1 Axes>"
      ]
     },
     "metadata": {
      "needs_background": "light"
     },
     "output_type": "display_data"
    }
   ],
   "source": [
    "# Scale if required\n",
    "scaler = MinMaxScaler()\n",
    "scaler.fit(df[['credit_score']])\n",
    "df['credit_score'] = scaler.transform(df[['credit_score']])\n",
    "\n",
    "km = KMeans(n_clusters=4)\n",
    "df['cluster']=km.fit_predict(df[['loan_balance','credit_score']])\n",
    "df1 = df[df.cluster==0]\n",
    "df2 = df[df.cluster==1]\n",
    "df3 = df[df.cluster==2]\n",
    "df4 = df[df.cluster==3]\n",
    "plt.scatter(df1.loan_balance,df1['credit_score'],color='green')\n",
    "plt.scatter(df2.loan_balance,df2['credit_score'],color='red')\n",
    "plt.scatter(df3.loan_balance,df3['credit_score'],color='black')\n",
    "plt.scatter(df4.loan_balance,df4['credit_score'],color='orange')\n",
    "plt.scatter(km.cluster_centers_[:,0],km.cluster_centers_[:,1],color='purple',marker='*',label='centroid')\n",
    "plt.xlabel('Loan Balance')\n",
    "plt.ylabel('Credit Score')\n",
    "plt.legend()"
   ]
  },
  {
   "cell_type": "markdown",
   "metadata": {},
   "source": [
    "###  Income vs Loan Balance"
   ]
  },
  {
   "cell_type": "code",
   "execution_count": 38,
   "metadata": {},
   "outputs": [
    {
     "data": {
      "text/plain": [
       "<matplotlib.legend.Legend at 0x7f8e418328e0>"
      ]
     },
     "execution_count": 38,
     "metadata": {},
     "output_type": "execute_result"
    },
    {
     "data": {
      "image/png": "[encoded data removed]",
      "text/plain": [
       "<Figure size 432x288 with 1 Axes>"
      ]
     },
     "metadata": {
      "needs_background": "light"
     },
     "output_type": "display_data"
    }
   ],
   "source": [
    "# Income and loan balance\n",
    "\n",
    "# Scale if required\n",
    "scaler = MinMaxScaler()\n",
    "scaler.fit(df[['income']])\n",
    "df['income'] = scaler.transform(df[['income']])\n",
    "\n",
    "km = KMeans(n_clusters=4)\n",
    "df['cluster']=km.fit_predict(df[['loan_balance','income']])\n",
    "df1 = df[df.cluster==0]\n",
    "df2 = df[df.cluster==1]\n",
    "df3 = df[df.cluster==2]\n",
    "df4 = df[df.cluster==3]\n",
    "plt.scatter(df1.loan_balance,df1['income'],color='green')\n",
    "plt.scatter(df2.loan_balance,df2['income'],color='red')\n",
    "plt.scatter(df3.loan_balance,df3['income'],color='black')\n",
    "plt.scatter(df4.loan_balance,df4['income'],color='orange')\n",
    "plt.scatter(km.cluster_centers_[:,0],km.cluster_centers_[:,1],color='purple',marker='*',label='centroid')\n",
    "plt.xlabel('Loan Balance')\n",
    "plt.ylabel('Income')\n",
    "plt.legend()"
   ]
  },
  {
   "cell_type": "markdown",
   "metadata": {},
   "source": [
    "<div align=center style=color:green><h1> Thank you !! </h1> </div>\n",
    "\n",
    "<br/><br/>\n",
    "<br/>\n",
    "<br/>\n",
    "<br/>\n",
    "<br/>\n",
    "<br/>\n",
    "<br/><br/>\n",
    "<br/>\n",
    "<br/>\n",
    "<br/>\n",
    "<br/>\n",
    "<br/>\n",
    "<br/><br/>\n",
    "<br/>\n",
    "<br/>\n",
    "<br/>\n",
    "<br/>\n",
    "<br/>\n",
    "<br/><br/>\n",
    "<br/>\n",
    "<br/>\n",
    "<br/>\n",
    "<br/>\n",
    "<br/>"
   ]
  }
 ],
 "metadata": {
  "kernelspec": {
   "display_name": "Python 3",
   "language": "python",
   "name": "python3"
  },
  "language_info": {
   "codemirror_mode": {
    "name": "ipython",
    "version": 3
   },
   "file_extension": ".py",
   "mimetype": "text/x-python",
   "name": "python",
   "nbconvert_exporter": "python",
   "pygments_lexer": "ipython3",
   "version": "3.8.5"
  },
  "toc-autonumbering": false,
  "toc-showmarkdowntxt": false,
  "toc-showtags": false
 },
 "nbformat": 4,
 "nbformat_minor": 4
}
